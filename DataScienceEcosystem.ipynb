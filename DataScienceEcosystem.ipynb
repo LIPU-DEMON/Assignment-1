{
 "cells": [
  {
   "cell_type": "markdown",
   "id": "15e40c0d-315f-4fc9-9d07-36dac2e7ae8e",
   "metadata": {},
   "source": [
    "# Data science tools and Ecosystem."
   ]
  },
  {
   "cell_type": "markdown",
   "id": "05041727-1013-48c1-9b81-cb6c02ec05c0",
   "metadata": {},
   "source": [
    "#### In this Notebook, Data Science Tools and Ecosystems are Summarized."
   ]
  },
  {
   "cell_type": "markdown",
   "id": "4fc780f2-a03b-4767-8bc6-355f8b198faf",
   "metadata": {},
   "source": [
    "__Some of the popular languages the dataScientists use are:__"
   ]
  },
  {
   "cell_type": "markdown",
   "id": "81bdc8e7-8872-43c9-bba0-958d86f7d88b",
   "metadata": {},
   "source": [
    "1. PYTHON\n",
    "2. C\n",
    "3. SQL(Structured Query Language)\n",
    "4. Julia\n",
    "5. c++\n",
    "6. java\n",
    "\n",
    "\n"
   ]
  },
  {
   "cell_type": "markdown",
   "id": "9032e495-7657-4dc0-9e4e-41c89317e4fb",
   "metadata": {},
   "source": [
    "__Some of the Commonly used Libraries used by DataScientists Include:__ \n"
   ]
  },
  {
   "cell_type": "markdown",
   "id": "a58166f0-598b-483b-96d4-cf0975efa11c",
   "metadata": {},
   "source": [
    "1. Matplotlib\n",
    "2. Pandas\n",
    "3. Numpy\n",
    "4. Scikit-Learn\n",
    "5. TensorFlow\n"
   ]
  },
  {
   "cell_type": "markdown",
   "id": "32ccaed4-cee2-48d1-90a7-a21658a0847f",
   "metadata": {},
   "source": [
    "| DataScience Tools |\n",
    "|-------------------|\n",
    "| R-studio  \n",
    "| IBM-Watson Studio |\n",
    "| VS-code           | \n"
   ]
  },
  {
   "cell_type": "markdown",
   "id": "52298619-cec5-4c9b-a765-2724758fe9c0",
   "metadata": {},
   "source": [
    "### Below are Few Examples of Evaluating Mathematical Expressions in Python: "
   ]
  },
  {
   "cell_type": "code",
   "execution_count": 9,
   "id": "93bafa28-6e83-4d41-b18f-474abc02550f",
   "metadata": {},
   "outputs": [
    {
     "name": "stdout",
     "output_type": "stream",
     "text": [
      "17\n"
     ]
    }
   ],
   "source": [
    "#this is a simple mathematical expression for multiplying and then adding integers.\n",
    "r = (3*4) + 5\n",
    "print(r)\n"
   ]
  },
  {
   "cell_type": "code",
   "execution_count": 8,
   "id": "9a93542a-9fd2-46e5-b401-8e281c9c25f4",
   "metadata": {},
   "outputs": [
    {
     "name": "stdin",
     "output_type": "stream",
     "text": [
      "enter the first num:  45\n",
      "enter the second num:  34\n"
     ]
    },
    {
     "name": "stdout",
     "output_type": "stream",
     "text": [
      "the sum of 45 and 34 is 79\n"
     ]
    }
   ],
   "source": [
    "a = int(input(\"enter the first num: \"))\n",
    "b = int(input(\"enter the second num: \"))\n",
    "#adding two int-->\n",
    "result = a+b\n",
    "print(f\"the sum of {a} and {b} is {result}\")\n"
   ]
  },
  {
   "cell_type": "code",
   "execution_count": 10,
   "id": "de13d2bb-2e45-4153-a12c-3f2204b0d21d",
   "metadata": {},
   "outputs": [
    {
     "name": "stdout",
     "output_type": "stream",
     "text": [
      "min to hrs =  3.3333333333333335\n"
     ]
    }
   ],
   "source": [
    "#converting 200mins to hours\n",
    "mins = 200\n",
    "hrs = (200/60)\n",
    "print(\"min to hrs = \",hrs)\n",
    "\n",
    "\n"
   ]
  },
  {
   "cell_type": "markdown",
   "id": "13a815cf-aba2-4e7d-9a31-39474f75a296",
   "metadata": {},
   "source": [
    "\n",
    "__OBJECTIVES :__\n",
    "\n"
   ]
  },
  {
   "cell_type": "markdown",
   "id": "4aa328ea-492e-4981-b36a-f0d79887cc66",
   "metadata": {},
   "source": [
    "* POPULAR LANGUAGES FOR DATA SCIENTISTS\n",
    "* COMMONLY USED LIBRARIES\n",
    "* OPEN SOURCE IDEs\n",
    "* FEW MATHEMATICAL EXPRESSIONS\n",
    " "
   ]
  },
  {
   "cell_type": "markdown",
   "id": "01514786-d130-4c7e-844a-9cfe17eac960",
   "metadata": {},
   "source": [
    "## AUTHORS: "
   ]
  },
  {
   "cell_type": "code",
   "execution_count": null,
   "id": "6a68209a-6a39-4071-8f5c-825c6bae929a",
   "metadata": {},
   "outputs": [],
   "source": [
    "NAME = \"Lipu Deman\""
   ]
  }
 ],
 "metadata": {
  "kernelspec": {
   "display_name": "Python 3 (ipykernel)",
   "language": "python",
   "name": "python3"
  },
  "language_info": {
   "codemirror_mode": {
    "name": "ipython",
    "version": 3
   },
   "file_extension": ".py",
   "mimetype": "text/x-python",
   "name": "python",
   "nbconvert_exporter": "python",
   "pygments_lexer": "ipython3",
   "version": "3.11.3"
  }
 },
 "nbformat": 4,
 "nbformat_minor": 5
}
